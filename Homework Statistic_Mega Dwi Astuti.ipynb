{
 "cells": [
  {
   "cell_type": "markdown",
   "metadata": {
    "id": "Rmg5FwtXmiHY"
   },
   "source": [
    "# AB-Testing\n",
    "Kasus yang akan digunakan adalah membuka akun deposit untuk nasabah bank. Pada kesempatan kali ini data scientist diminta tolong untuk menganalisa hasil ab-testing suatu perusahaan bank. Apakah jumlah campaign mampu meningkatkan keinginan user untuk membuka akun deposit atau tidak?\n",
    "\n",
    "Data yang digunakan berasal dari folder bank.zip file yang digunakan \n",
    "adalah bank-full.csv\n",
    "\n",
    "1. Untuk variabel jumlah campaign bisa dicek untuk kolom campaign \n",
    "2. untuk variabel apakah akhirnya user membuka akun atau tidak bisa menggunakan variabel y"
   ]
  },
  {
   "cell_type": "code",
   "execution_count": 42,
   "metadata": {
    "id": "_HBsQUHMmiHY",
    "outputId": "ef2d4137-c577-41fc-c8b9-675c4dfb3b34"
   },
   "outputs": [
    {
     "data": {
      "text/html": [
       "<div>\n",
       "<style scoped>\n",
       "    .dataframe tbody tr th:only-of-type {\n",
       "        vertical-align: middle;\n",
       "    }\n",
       "\n",
       "    .dataframe tbody tr th {\n",
       "        vertical-align: top;\n",
       "    }\n",
       "\n",
       "    .dataframe thead th {\n",
       "        text-align: right;\n",
       "    }\n",
       "</style>\n",
       "<table border=\"1\" class=\"dataframe\">\n",
       "  <thead>\n",
       "    <tr style=\"text-align: right;\">\n",
       "      <th></th>\n",
       "      <th>age</th>\n",
       "      <th>job</th>\n",
       "      <th>marital</th>\n",
       "      <th>education</th>\n",
       "      <th>default</th>\n",
       "      <th>balance</th>\n",
       "      <th>housing</th>\n",
       "      <th>loan</th>\n",
       "      <th>contact</th>\n",
       "      <th>day</th>\n",
       "      <th>month</th>\n",
       "      <th>duration</th>\n",
       "      <th>campaign</th>\n",
       "      <th>pdays</th>\n",
       "      <th>previous</th>\n",
       "      <th>poutcome</th>\n",
       "      <th>y</th>\n",
       "    </tr>\n",
       "  </thead>\n",
       "  <tbody>\n",
       "    <tr>\n",
       "      <th>0</th>\n",
       "      <td>58</td>\n",
       "      <td>management</td>\n",
       "      <td>married</td>\n",
       "      <td>tertiary</td>\n",
       "      <td>no</td>\n",
       "      <td>2143</td>\n",
       "      <td>yes</td>\n",
       "      <td>no</td>\n",
       "      <td>unknown</td>\n",
       "      <td>5</td>\n",
       "      <td>may</td>\n",
       "      <td>261</td>\n",
       "      <td>1</td>\n",
       "      <td>-1</td>\n",
       "      <td>0</td>\n",
       "      <td>unknown</td>\n",
       "      <td>no</td>\n",
       "    </tr>\n",
       "    <tr>\n",
       "      <th>1</th>\n",
       "      <td>44</td>\n",
       "      <td>technician</td>\n",
       "      <td>single</td>\n",
       "      <td>secondary</td>\n",
       "      <td>no</td>\n",
       "      <td>29</td>\n",
       "      <td>yes</td>\n",
       "      <td>no</td>\n",
       "      <td>unknown</td>\n",
       "      <td>5</td>\n",
       "      <td>may</td>\n",
       "      <td>151</td>\n",
       "      <td>1</td>\n",
       "      <td>-1</td>\n",
       "      <td>0</td>\n",
       "      <td>unknown</td>\n",
       "      <td>no</td>\n",
       "    </tr>\n",
       "    <tr>\n",
       "      <th>2</th>\n",
       "      <td>33</td>\n",
       "      <td>entrepreneur</td>\n",
       "      <td>married</td>\n",
       "      <td>secondary</td>\n",
       "      <td>no</td>\n",
       "      <td>2</td>\n",
       "      <td>yes</td>\n",
       "      <td>yes</td>\n",
       "      <td>unknown</td>\n",
       "      <td>5</td>\n",
       "      <td>may</td>\n",
       "      <td>76</td>\n",
       "      <td>1</td>\n",
       "      <td>-1</td>\n",
       "      <td>0</td>\n",
       "      <td>unknown</td>\n",
       "      <td>no</td>\n",
       "    </tr>\n",
       "    <tr>\n",
       "      <th>3</th>\n",
       "      <td>47</td>\n",
       "      <td>blue-collar</td>\n",
       "      <td>married</td>\n",
       "      <td>unknown</td>\n",
       "      <td>no</td>\n",
       "      <td>1506</td>\n",
       "      <td>yes</td>\n",
       "      <td>no</td>\n",
       "      <td>unknown</td>\n",
       "      <td>5</td>\n",
       "      <td>may</td>\n",
       "      <td>92</td>\n",
       "      <td>1</td>\n",
       "      <td>-1</td>\n",
       "      <td>0</td>\n",
       "      <td>unknown</td>\n",
       "      <td>no</td>\n",
       "    </tr>\n",
       "    <tr>\n",
       "      <th>4</th>\n",
       "      <td>33</td>\n",
       "      <td>unknown</td>\n",
       "      <td>single</td>\n",
       "      <td>unknown</td>\n",
       "      <td>no</td>\n",
       "      <td>1</td>\n",
       "      <td>no</td>\n",
       "      <td>no</td>\n",
       "      <td>unknown</td>\n",
       "      <td>5</td>\n",
       "      <td>may</td>\n",
       "      <td>198</td>\n",
       "      <td>1</td>\n",
       "      <td>-1</td>\n",
       "      <td>0</td>\n",
       "      <td>unknown</td>\n",
       "      <td>no</td>\n",
       "    </tr>\n",
       "  </tbody>\n",
       "</table>\n",
       "</div>"
      ],
      "text/plain": [
       "   age           job  marital  education default  balance housing loan  \\\n",
       "0   58    management  married   tertiary      no     2143     yes   no   \n",
       "1   44    technician   single  secondary      no       29     yes   no   \n",
       "2   33  entrepreneur  married  secondary      no        2     yes  yes   \n",
       "3   47   blue-collar  married    unknown      no     1506     yes   no   \n",
       "4   33       unknown   single    unknown      no        1      no   no   \n",
       "\n",
       "   contact  day month  duration  campaign  pdays  previous poutcome   y  \n",
       "0  unknown    5   may       261         1     -1         0  unknown  no  \n",
       "1  unknown    5   may       151         1     -1         0  unknown  no  \n",
       "2  unknown    5   may        76         1     -1         0  unknown  no  \n",
       "3  unknown    5   may        92         1     -1         0  unknown  no  \n",
       "4  unknown    5   may       198         1     -1         0  unknown  no  "
      ]
     },
     "execution_count": 42,
     "metadata": {},
     "output_type": "execute_result"
    }
   ],
   "source": [
    "bank = pd.read_csv('bank-full.csv', sep=';')\n",
    "bank.head()"
   ]
  },
  {
   "cell_type": "markdown",
   "metadata": {
    "id": "l6QHAlRVmiHY"
   },
   "source": [
    "### 1. Pemahaman konsep A/B Testing"
   ]
  },
  {
   "cell_type": "markdown",
   "metadata": {
    "id": "M_mBM8lEmiHZ"
   },
   "source": [
    "#### a. Apa nama experimentnya?"
   ]
  },
  {
   "cell_type": "markdown",
   "metadata": {
    "id": "8nb8UY-WmiHZ"
   },
   "source": [
    "menganalisis dengan AB Testing mengenai pengaruh jumlah campaign terhadap keinginan user untuk membuka akun deposit atau tidak"
   ]
  },
  {
   "cell_type": "markdown",
   "metadata": {
    "id": "wu7ttomGmiHZ"
   },
   "source": [
    "#### b. Definisikan Hipotesis"
   ]
  },
  {
   "cell_type": "markdown",
   "metadata": {
    "id": "vzlPx7TAmiHZ"
   },
   "source": [
    "semakin banyak campaign yang dilakukan terhadap user maka kemungkinan user akan membuka akun semakin tinggi."
   ]
  },
  {
   "cell_type": "markdown",
   "metadata": {
    "id": "qZFLHb-omiHZ"
   },
   "source": [
    "#### c. Siapa participant-nya?"
   ]
  },
  {
   "cell_type": "markdown",
   "metadata": {
    "id": "IJ7QyY_emiHZ"
   },
   "source": [
    "User (nasabah bank)"
   ]
  },
  {
   "cell_type": "markdown",
   "metadata": {
    "id": "NKNJO7xAmiHZ"
   },
   "source": [
    "#### d. Variabel yang akan diuji apa?"
   ]
  },
  {
   "cell_type": "markdown",
   "metadata": {
    "id": "M_c4d5uZmiHZ"
   },
   "source": [
    "Jumlah campaign "
   ]
  },
  {
   "cell_type": "markdown",
   "metadata": {
    "id": "wnXosWefmiHa"
   },
   "source": [
    "#### e. Metrics apa yang akan digunakan?"
   ]
  },
  {
   "cell_type": "markdown",
   "metadata": {
    "id": "vstGq839miHa"
   },
   "source": [
    "**Macroconversions:** jumlah campaign per nasabah"
   ]
  },
  {
   "cell_type": "markdown",
   "metadata": {
    "id": "4CYFT3SLmiHa"
   },
   "source": [
    "**Microconversions:** jumlah nasabah yang diberi campaign"
   ]
  },
  {
   "cell_type": "markdown",
   "metadata": {
    "id": "fqSLj5nXmiHa"
   },
   "source": [
    "#### f. Berapa sample size dan durasi experiment?"
   ]
  },
  {
   "cell_type": "code",
   "execution_count": 43,
   "metadata": {
    "id": "X7BFizmFmiHa",
    "outputId": "0475da76-c41c-4531-ee6c-d0c1fadf03be"
   },
   "outputs": [
    {
     "data": {
      "text/plain": [
       "396.4920742803271"
      ]
     },
     "execution_count": 43,
     "metadata": {},
     "output_type": "execute_result"
    }
   ],
   "source": [
    "a = bank.shape[0]\n",
    "alpha = 0.05\n",
    "sample = a / (1+ a * alpha**2)\n",
    "sample"
   ]
  },
  {
   "cell_type": "code",
   "execution_count": 44,
   "metadata": {
    "id": "5M7stt1RmiHa",
    "outputId": "00d2d7bd-5d35-4f49-ac08-a9402687e3c0"
   },
   "outputs": [
    {
     "data": {
      "text/plain": [
       "no     200\n",
       "yes    200\n",
       "Name: y, dtype: int64"
      ]
     },
     "execution_count": 44,
     "metadata": {},
     "output_type": "execute_result"
    }
   ],
   "source": [
    "sample_size = bank.groupby(['y']).apply(lambda x: x.sample(n=200,random_state=123))\n",
    "sample_size['y'].value_counts()"
   ]
  },
  {
   "cell_type": "markdown",
   "metadata": {
    "id": "XFXFdjh8miHb"
   },
   "source": [
    "Jumlah **sample size** yang dibutuhkan ada **400 sample**, dengan 200 untuk group yang yes dan 200 untuk gruop yang no. Sedangkan untuk **durasi experiment akan dilakukan selama 7 hari**"
   ]
  },
  {
   "cell_type": "markdown",
   "metadata": {
    "id": "WLTuVY24miHb"
   },
   "source": [
    "### 2. Pengujian Hipotesis"
   ]
  },
  {
   "cell_type": "markdown",
   "metadata": {
    "id": "eKK3WUJTmiHb"
   },
   "source": [
    "#### a. Penentuan hipotesis"
   ]
  },
  {
   "cell_type": "markdown",
   "metadata": {
    "id": "raKQviKvmiHb"
   },
   "source": [
    "Apakah jumlah campaign mampu meningkatkan keinginan user untuk membuka akun deposit atau tidak?\n",
    "\n",
    "H0: rata-rata jumlah campaign user/nasabah yang membuka akun **sama** dengan yang tidak membuka akun  <br>\n",
    "H1: rata-rata jumlah campaign user/nasabah yang membuka akun **berbeda** dengan yang tidak membuka akun"
   ]
  },
  {
   "cell_type": "markdown",
   "metadata": {
    "id": "ny5sKgEBmiHc"
   },
   "source": [
    "#### b. Pengujian yang digunakan"
   ]
  },
  {
   "cell_type": "markdown",
   "metadata": {
    "id": "YyUd2f3XmiHc"
   },
   "source": [
    "menggunakan T-test untuk kategori **membuka akun (yes)** dan **tidak membuka akun (no)**. "
   ]
  },
  {
   "cell_type": "markdown",
   "metadata": {
    "id": "m45JIlMumiHc"
   },
   "source": [
    "#### c. Deteksi asumsi beserta cara penanganannya"
   ]
  },
  {
   "cell_type": "code",
   "execution_count": 45,
   "metadata": {},
   "outputs": [
    {
     "name": "stdout",
     "output_type": "stream",
     "text": [
      "rata-rata untuk kategori yang membuka akun: 2.1410474569861977\n",
      "rata-rata untuk kategori yang tidak membuka akun: 2.8463503832473322\n"
     ]
    }
   ],
   "source": [
    "yes = bank[bank['y']=='yes']\n",
    "no = bank[bank['y']=='no']\n",
    "print('rata-rata untuk kategori yang membuka akun:',yes['campaign'].mean())\n",
    "print('rata-rata untuk kategori yang tidak membuka akun:',no['campaign'].mean())"
   ]
  },
  {
   "cell_type": "code",
   "execution_count": 46,
   "metadata": {},
   "outputs": [
    {
     "data": {
      "text/plain": [
       "(0.0, 10.0)"
      ]
     },
     "execution_count": 46,
     "metadata": {},
     "output_type": "execute_result"
    },
    {
     "data": {
      "image/png": "[encoded data removed]",
      "text/plain": [
       "<Figure size 1296x576 with 1 Axes>"
      ]
     },
     "metadata": {
      "needs_background": "light"
     },
     "output_type": "display_data"
    }
   ],
   "source": [
    "plt.figure(figsize=(18,8))\n",
    "\n",
    "sns.kdeplot(yes['campaign'],label = 'yes (membuka akun)',shade = 'blue')\n",
    "sns.kdeplot(no['campaign'], label = 'no (tidak membuka akun)',shade = 'red')\n",
    "plt.title('Distribusi Campaign per Kategori',fontsize = 20,fontweight='bold')\n",
    "plt.legend()\n",
    "plt.xlim(0,10)"
   ]
  },
  {
   "cell_type": "code",
   "execution_count": 47,
   "metadata": {},
   "outputs": [
    {
     "name": "stdout",
     "output_type": "stream",
     "text": [
      "Jumlah data: 45211\n"
     ]
    }
   ],
   "source": [
    "print('Jumlah data:',bank.shape[0])"
   ]
  },
  {
   "cell_type": "markdown",
   "metadata": {
    "id": "pOMIxpLYmiHc"
   },
   "source": [
    "#### d. Hasil pengujian hipotesis\n"
   ]
  },
  {
   "cell_type": "code",
   "execution_count": 48,
   "metadata": {},
   "outputs": [
    {
     "name": "stdout",
     "output_type": "stream",
     "text": [
      "P-Value : 9.742452436952554e-72\n",
      "Tidak cukup bukti jumlah campaign bisa bedakan user untuk membuka akun atau tidak membuka akun\n"
     ]
    }
   ],
   "source": [
    "a, b= st.mannwhitneyu(yes['campaign'],no['campaign'])\n",
    "alpha = 0.05\n",
    "print('P-Value :',b)\n",
    "\n",
    "if p_value >= alpha:\n",
    "    print('Tidak cukup bukti jumlah campaign bisa bedakan user untuk membuka akun atau tidak membuka akun')\n",
    "else:\n",
    "    print('cukup bukti jumlah campaign bisa bedakan user untuk membuka akun atau tidak membuka akun')"
   ]
  },
  {
   "cell_type": "markdown",
   "metadata": {
    "id": "tHbp7VUJmiHd"
   },
   "source": [
    "#### e. Kesimpulan dan interpretasi\n"
   ]
  },
  {
   "cell_type": "markdown",
   "metadata": {
    "id": "wheDTyEFmiHd"
   },
   "source": [
    "Hasil uji hipotesis menunjukkan bahwa **p-value < alpha**, sehingga jumlah campaign dapat berpengaruh terhadap user/nasabah untuk membuka akun atau tidak membuka akun. akan tetapi jika dilihat dari **rata-rata grafik distribusi campaign per kategori** ternyata semakin banyak campaign yang diberikan user akan semakin menolak membuka akun. sehingga jumlah campaign memiliki hubungan yang berbanding terbalik dengan user yang ingin membuka akun (semakin sedikit campaign maka user yang ingin membuka akun banyak begitu juga jika banyak campaign maka user sedikt yang ingin membuka akun)."
   ]
  }
 ],
 "metadata": {
  "colab": {
   "name": "inna-statistics-hw.ipynb",
   "provenance": []
  },
  "kernelspec": {
   "display_name": "Python 3",
   "language": "python",
   "name": "python3"
  },
  "language_info": {
   "codemirror_mode": {
    "name": "ipython",
    "version": 3
   },
   "file_extension": ".py",
   "mimetype": "text/x-python",
   "name": "python",
   "nbconvert_exporter": "python",
   "pygments_lexer": "ipython3",
   "version": "3.8.8"
  }
 },
 "nbformat": 4,
 "nbformat_minor": 4
}
